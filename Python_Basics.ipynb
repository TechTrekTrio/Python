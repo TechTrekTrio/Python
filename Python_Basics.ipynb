{
 "cells": [
  {
   "cell_type": "markdown",
   "id": "741fed9f-adc1-4231-9c5f-9cceaad77d3e",
   "metadata": {},
   "source": [
    "# Python Language\n",
    "##### This chapter is the basic part of Python language and also the basis for subsequent content."
   ]
  },
  {
   "cell_type": "markdown",
   "id": "cfbd0b98-79bf-4791-a9fd-c1e40183e4e7",
   "metadata": {},
   "source": [
    "## 1.Python Data"
   ]
  },
  {
   "cell_type": "markdown",
   "id": "ca924263-b9b3-4919-8fe5-0b9e06ef21fd",
   "metadata": {},
   "source": [
    "## 1.1\n",
    "##### In Python, a set of characters enclosed in quotation marks is called a string. For Example, 'hello', \"my python\", \"2+3\", etc..., all are strings.The quotation marks used in Python strings can be single quote/Double quotes/Triple quotes."
   ]
  },
  {
   "cell_type": "code",
   "execution_count": 1,
   "id": "b90a1962-7fa4-4f55-b4fa-364b9258c441",
   "metadata": {},
   "outputs": [
    {
     "name": "stdout",
     "output_type": "stream",
     "text": [
      "hello world!\n"
     ]
    }
   ],
   "source": [
    "print('hello world!')"
   ]
  },
  {
   "cell_type": "code",
   "execution_count": 3,
   "id": "28eeb76c-eb42-4332-ba42-4b2256177832",
   "metadata": {},
   "outputs": [
    {
     "name": "stdout",
     "output_type": "stream",
     "text": [
      "I am Sham\n"
     ]
    }
   ],
   "source": [
    "c = 'I am Sham'\n",
    "print(c)"
   ]
  },
  {
   "cell_type": "code",
   "execution_count": 8,
   "id": "b9a5faec-d3ba-4878-a78f-7bdb3d029c9a",
   "metadata": {},
   "outputs": [
    {
     "name": "stdout",
     "output_type": "stream",
     "text": [
      "I am \"Sham\"\n"
     ]
    }
   ],
   "source": [
    "c1 = 'I am \"Sham\"'\n",
    "print(c1)"
   ]
  },
  {
   "cell_type": "code",
   "execution_count": 10,
   "id": "8242d411-7074-4229-b5fc-65ff80773e85",
   "metadata": {},
   "outputs": [
    {
     "name": "stdout",
     "output_type": "stream",
     "text": [
      "I am Sham\n"
     ]
    }
   ],
   "source": [
    "c2 = \"I am Sham\"\n",
    "print(c2)"
   ]
  },
  {
   "cell_type": "code",
   "execution_count": 11,
   "id": "dba706de-ec84-486f-aa38-53538bbb445a",
   "metadata": {},
   "outputs": [
    {
     "name": "stdout",
     "output_type": "stream",
     "text": [
      "Hello!\n",
      "I am\n",
      "Sham\n"
     ]
    }
   ],
   "source": [
    "c3 = \"\"\"Hello!\n",
    "I am\n",
    "Sham\"\"\"\n",
    "print(c3)"
   ]
  },
  {
   "cell_type": "markdown",
   "id": "89605437-2fae-45cb-a674-ae2f80fdfb1c",
   "metadata": {},
   "source": [
    "##### The escape character \\ can escape many characters, such as \\n for line break, \\t for tab, and the character \\ itself must also be escaped, so the character represented by \\\\ is \\"
   ]
  },
  {
   "cell_type": "code",
   "execution_count": 15,
   "id": "465ccbec-8bb0-4024-b4a4-018a8bfdbd60",
   "metadata": {},
   "outputs": [
    {
     "name": "stdout",
     "output_type": "stream",
     "text": [
      "I'm Sham\n",
      "Hello World! \n",
      "I am Sham!\n",
      "\\\t\\\n"
     ]
    }
   ],
   "source": [
    "print ('I\\'m Sham')\n",
    "print (\"Hello World! \\nI am Sham!\")\n",
    "print ('\\\\\\t\\\\')"
   ]
  },
  {
   "cell_type": "markdown",
   "id": "9fdfefab-7e1c-4bbf-9eb2-7d033345eb82",
   "metadata": {},
   "source": [
    "To output the quoted string as is, you can add r before the quotes."
   ]
  },
  {
   "cell_type": "code",
   "execution_count": 16,
   "id": "5ac629a3-d625-4c77-bc64-f56da2b0972e",
   "metadata": {},
   "outputs": [
    {
     "name": "stdout",
     "output_type": "stream",
     "text": [
      "\\\\\\t\\\\\n"
     ]
    }
   ],
   "source": [
    "print (r'\\\\\\t\\\\')"
   ]
  },
  {
   "cell_type": "markdown",
   "id": "9d8566ac-8ecf-400c-b5f7-5fc5f8b16796",
   "metadata": {},
   "source": [
    "- Substrings and operations"
   ]
  },
  {
   "cell_type": "markdown",
   "id": "ca974b9f-da6d-4041-9936-3d1d0c297c3e",
   "metadata": {},
   "source": [
    "There are two ways to extract a substring, using the [] index or the slice operator [:], these two methods are very widely used"
   ]
  },
  {
   "cell_type": "code",
   "execution_count": 18,
   "id": "c0afc05c-2b0b-4e0a-8c34-1c50ed5c9685",
   "metadata": {},
   "outputs": [
    {
     "name": "stdout",
     "output_type": "stream",
     "text": [
      "True\n",
      "False\n"
     ]
    }
   ],
   "source": [
    "s = 'Python'\n",
    "print ( 'Py' in s)\n",
    "print ( 'py' in s)"
   ]
  },
  {
   "cell_type": "code",
   "execution_count": 19,
   "id": "2e16f7b5-c4ec-4655-983f-d4fe661c7778",
   "metadata": {},
   "outputs": [
    {
     "name": "stdout",
     "output_type": "stream",
     "text": [
      "t\n"
     ]
    }
   ],
   "source": [
    "print (s[2])"
   ]
  },
  {
   "cell_type": "code",
   "execution_count": 20,
   "id": "57d69394-a834-4773-837d-cd1bda8e0c92",
   "metadata": {},
   "outputs": [
    {
     "name": "stdout",
     "output_type": "stream",
     "text": [
      "yth\n"
     ]
    }
   ],
   "source": [
    "print (s[1:4])"
   ]
  },
  {
   "cell_type": "markdown",
   "id": "53d3f392-3f14-4a07-ae86-ea1503448b51",
   "metadata": {},
   "source": [
    "- String concatenation and formatted output"
   ]
  },
  {
   "cell_type": "code",
   "execution_count": 21,
   "id": "a5fec7a7-2616-460c-adf8-ecc609dbec03",
   "metadata": {},
   "outputs": [
    {
     "name": "stdout",
     "output_type": "stream",
     "text": [
      "The first word is \"hello\", and the seconf word is \"world\"\n",
      "hello world!\n"
     ]
    }
   ],
   "source": [
    "word1 = '\"hello\"'\n",
    "word2 = '\"world\"'\n",
    "sentence = word1.strip('\"') + ' ' + word2.strip('\"') + '!'\n",
    "\n",
    "print ('The first word is %s, and the second word is %s' %(word1, word2))\n",
    "print(sentence)"
   ]
  },
  {
   "cell_type": "markdown",
   "id": "0a8b564a-d4a8-4bab-9f30-d58bd1e73c94",
   "metadata": {},
   "source": [
    "### 1.2 Integers and floating point numbers"
   ]
  },
  {
   "cell_type": "markdown",
   "id": "542fc147-738f-411c-aec6-ffe514b28033",
   "metadata": {},
   "source": [
    "#### Integers\n",
    "\n",
    "Python can handle integers of any size, including negative integers, and the representation method in the program is exactly the same as the mathematical method."
   ]
  },
  {
   "cell_type": "code",
   "execution_count": 23,
   "id": "92576a2a-9343-48ef-8dc0-60df2e743f1f",
   "metadata": {},
   "outputs": [
    {
     "name": "stdout",
     "output_type": "stream",
     "text": [
      "3\n"
     ]
    }
   ],
   "source": [
    "i = 3\n",
    "print (i)"
   ]
  },
  {
   "cell_type": "code",
   "execution_count": 24,
   "id": "ddf28f4e-6a8b-4c23-92f6-1fe290419692",
   "metadata": {},
   "outputs": [
    {
     "data": {
      "text/plain": [
       "10"
      ]
     },
     "execution_count": 24,
     "metadata": {},
     "output_type": "execute_result"
    }
   ],
   "source": [
    "3 + 7"
   ]
  },
  {
   "cell_type": "code",
   "execution_count": 25,
   "id": "853fc48d-05a9-45fc-9908-c927d80628fe",
   "metadata": {},
   "outputs": [
    {
     "data": {
      "text/plain": [
       "-4"
      ]
     },
     "execution_count": 25,
     "metadata": {},
     "output_type": "execute_result"
    }
   ],
   "source": [
    "3 - 7"
   ]
  },
  {
   "cell_type": "code",
   "execution_count": 26,
   "id": "303d788b-4e3e-4738-8b37-3a1fe5231c16",
   "metadata": {},
   "outputs": [
    {
     "data": {
      "text/plain": [
       "21"
      ]
     },
     "execution_count": 26,
     "metadata": {},
     "output_type": "execute_result"
    }
   ],
   "source": [
    "3 * 7"
   ]
  },
  {
   "cell_type": "code",
   "execution_count": 27,
   "id": "00f5082f-5ece-40b8-9af0-aa740b26fd15",
   "metadata": {},
   "outputs": [
    {
     "data": {
      "text/plain": [
       "2187"
      ]
     },
     "execution_count": 27,
     "metadata": {},
     "output_type": "execute_result"
    }
   ],
   "source": [
    "3 ** 7"
   ]
  },
  {
   "cell_type": "code",
   "execution_count": 207,
   "id": "be5b90c3-adb8-4ae1-97d0-d17ef388b255",
   "metadata": {},
   "outputs": [
    {
     "data": {
      "text/plain": [
       "2.3333333333333335"
      ]
     },
     "execution_count": 207,
     "metadata": {},
     "output_type": "execute_result"
    }
   ],
   "source": [
    "7 / 3 \n",
    "#After Python 3, there is no difference between integer division and floating point division"
   ]
  },
  {
   "cell_type": "code",
   "execution_count": 31,
   "id": "c6f25f93-8ed7-47ff-8418-cf9f3d668b15",
   "metadata": {},
   "outputs": [
    {
     "data": {
      "text/plain": [
       "1"
      ]
     },
     "execution_count": 31,
     "metadata": {},
     "output_type": "execute_result"
    }
   ],
   "source": [
    "7 % 3"
   ]
  },
  {
   "cell_type": "code",
   "execution_count": 32,
   "id": "e6f6396f-978e-42d8-8e96-f47e42bcd774",
   "metadata": {},
   "outputs": [
    {
     "data": {
      "text/plain": [
       "2"
      ]
     },
     "execution_count": 32,
     "metadata": {},
     "output_type": "execute_result"
    }
   ],
   "source": [
    "7//3"
   ]
  },
  {
   "cell_type": "markdown",
   "id": "0e1af680-7cb2-492c-8bf0-779fffd30d81",
   "metadata": {},
   "source": [
    "#### Floating point numbers"
   ]
  },
  {
   "cell_type": "code",
   "execution_count": 34,
   "id": "b971896b-aa86-4085-a5fa-e1dcd48df16a",
   "metadata": {},
   "outputs": [
    {
     "data": {
      "text/plain": [
       "2.3333333333333335"
      ]
     },
     "execution_count": 34,
     "metadata": {},
     "output_type": "execute_result"
    }
   ],
   "source": [
    "7.0 / 3"
   ]
  },
  {
   "cell_type": "code",
   "execution_count": 35,
   "id": "1c420b7c-cbf4-4b2d-ad37-bc1cc3c24ad5",
   "metadata": {},
   "outputs": [
    {
     "data": {
      "text/plain": [
       "314.0"
      ]
     },
     "execution_count": 35,
     "metadata": {},
     "output_type": "execute_result"
    }
   ],
   "source": [
    "3.14 * 10 ** 2"
   ]
  },
  {
   "cell_type": "markdown",
   "id": "5b4b79cb-dd1a-45d3-b422-f6724f438efc",
   "metadata": {},
   "source": [
    "Other representation methods"
   ]
  },
  {
   "cell_type": "code",
   "execution_count": 37,
   "id": "648c8947-4243-4137-8f7e-fa3d6c41e192",
   "metadata": {},
   "outputs": [
    {
     "data": {
      "text/plain": [
       "15"
      ]
     },
     "execution_count": 37,
     "metadata": {},
     "output_type": "execute_result"
    }
   ],
   "source": [
    "0b1111"
   ]
  },
  {
   "cell_type": "code",
   "execution_count": 38,
   "id": "50de6a7f-d879-433f-b309-0a716d0bbad7",
   "metadata": {},
   "outputs": [
    {
     "data": {
      "text/plain": [
       "255"
      ]
     },
     "execution_count": 38,
     "metadata": {},
     "output_type": "execute_result"
    }
   ],
   "source": [
    "0xff"
   ]
  },
  {
   "cell_type": "code",
   "execution_count": 39,
   "id": "94ebbe79-d5cc-4c26-907f-702d02060272",
   "metadata": {},
   "outputs": [
    {
     "data": {
      "text/plain": [
       "1.2e-05"
      ]
     },
     "execution_count": 39,
     "metadata": {},
     "output_type": "execute_result"
    }
   ],
   "source": [
    "1.2e-5"
   ]
  },
  {
   "cell_type": "markdown",
   "id": "f9ed03c4-dc06-47ea-a323-86f50c3783ec",
   "metadata": {},
   "source": [
    "More Operations"
   ]
  },
  {
   "cell_type": "code",
   "execution_count": 40,
   "id": "f1d593a7-8821-4e6b-8e9e-0300bae6ce8b",
   "metadata": {},
   "outputs": [
    {
     "name": "stdout",
     "output_type": "stream",
     "text": [
      "1.0\n"
     ]
    }
   ],
   "source": [
    "import math\n",
    "\n",
    "print (math.log(math.e)) # For more operations, please refer to the documentation"
   ]
  },
  {
   "cell_type": "markdown",
   "id": "f3d8c72b-070b-4482-91ac-af35a77e202b",
   "metadata": {},
   "source": [
    "### 1.3 Boolean values"
   ]
  },
  {
   "cell_type": "code",
   "execution_count": 42,
   "id": "8d675345-d556-4aba-9690-7f45a6a5c9d1",
   "metadata": {},
   "outputs": [
    {
     "data": {
      "text/plain": [
       "True"
      ]
     },
     "execution_count": 42,
     "metadata": {},
     "output_type": "execute_result"
    }
   ],
   "source": [
    "True"
   ]
  },
  {
   "cell_type": "code",
   "execution_count": 43,
   "id": "8b5141e6-9acc-4b43-ba3a-f5747f2c6275",
   "metadata": {},
   "outputs": [
    {
     "data": {
      "text/plain": [
       "False"
      ]
     },
     "execution_count": 43,
     "metadata": {},
     "output_type": "execute_result"
    }
   ],
   "source": [
    "False"
   ]
  },
  {
   "cell_type": "code",
   "execution_count": 44,
   "id": "278c9fb3-3f3d-4883-974e-f8b13aeb49f8",
   "metadata": {},
   "outputs": [
    {
     "data": {
      "text/plain": [
       "False"
      ]
     },
     "execution_count": 44,
     "metadata": {},
     "output_type": "execute_result"
    }
   ],
   "source": [
    "True and False"
   ]
  },
  {
   "cell_type": "code",
   "execution_count": 45,
   "id": "f54d91c9-cfbe-484b-98d0-a30c72dd4520",
   "metadata": {},
   "outputs": [
    {
     "data": {
      "text/plain": [
       "True"
      ]
     },
     "execution_count": 45,
     "metadata": {},
     "output_type": "execute_result"
    }
   ],
   "source": [
    "True or False"
   ]
  },
  {
   "cell_type": "code",
   "execution_count": 46,
   "id": "ef5d9201-f4ca-4c51-abe9-7586c51f62ac",
   "metadata": {},
   "outputs": [
    {
     "data": {
      "text/plain": [
       "False"
      ]
     },
     "execution_count": 46,
     "metadata": {},
     "output_type": "execute_result"
    }
   ],
   "source": [
    "not True"
   ]
  },
  {
   "cell_type": "code",
   "execution_count": 47,
   "id": "b84936a9-b782-4ba3-b35c-2b28b659f289",
   "metadata": {},
   "outputs": [
    {
     "data": {
      "text/plain": [
       "1"
      ]
     },
     "execution_count": 47,
     "metadata": {},
     "output_type": "execute_result"
    }
   ],
   "source": [
    "True + False"
   ]
  },
  {
   "cell_type": "code",
   "execution_count": 48,
   "id": "5190b828-91cc-4873-b411-5acaeae01bdd",
   "metadata": {},
   "outputs": [
    {
     "data": {
      "text/plain": [
       "True"
      ]
     },
     "execution_count": 48,
     "metadata": {},
     "output_type": "execute_result"
    }
   ],
   "source": [
    "18 >= 6 * 3 or 'py' in 'Python'"
   ]
  },
  {
   "cell_type": "code",
   "execution_count": 50,
   "id": "61599a0e-8861-44f8-bd6e-ed553270cd02",
   "metadata": {},
   "outputs": [
    {
     "data": {
      "text/plain": [
       "False"
      ]
     },
     "execution_count": 50,
     "metadata": {},
     "output_type": "execute_result"
    }
   ],
   "source": [
    "18 >= 6 * 3 and 'py' in 'Python'"
   ]
  },
  {
   "cell_type": "code",
   "execution_count": 51,
   "id": "f6e66744-9a14-4295-a74f-8ed535cc3dfa",
   "metadata": {},
   "outputs": [
    {
     "data": {
      "text/plain": [
       "True"
      ]
     },
     "execution_count": 51,
     "metadata": {},
     "output_type": "execute_result"
    }
   ],
   "source": [
    "18 >= 6 * 3 and 'Py' in 'Python'"
   ]
  },
  {
   "cell_type": "markdown",
   "id": "a0056971-a3a1-4fad-9b4c-3ee93fabbe2a",
   "metadata": {},
   "source": [
    "### 1.4 Date and Time"
   ]
  },
  {
   "cell_type": "code",
   "execution_count": 52,
   "id": "f262db9c-7a4c-42a4-9602-8c6042f29e8f",
   "metadata": {},
   "outputs": [
    {
     "name": "stdout",
     "output_type": "stream",
     "text": [
      "time.struct_time(tm_year=2025, tm_mon=7, tm_mday=20, tm_hour=0, tm_min=0, tm_sec=0, tm_wday=6, tm_yday=201, tm_isdst=-1)\n"
     ]
    }
   ],
   "source": [
    "import time\n",
    "\n",
    "now = time.strptime('2025-07-20', '%Y-%m-%d')\n",
    "print (now)"
   ]
  },
  {
   "cell_type": "code",
   "execution_count": 53,
   "id": "5b852552-d590-414e-b393-2a2d085a2adb",
   "metadata": {},
   "outputs": [
    {
     "data": {
      "text/plain": [
       "'2025-07-20'"
      ]
     },
     "execution_count": 53,
     "metadata": {},
     "output_type": "execute_result"
    }
   ],
   "source": [
    "time.strftime('%Y-%m-%d', now)"
   ]
  },
  {
   "cell_type": "code",
   "execution_count": 54,
   "id": "0a2f29e9-c888-4461-8819-133a34b1c54a",
   "metadata": {},
   "outputs": [
    {
     "data": {
      "text/plain": [
       "6"
      ]
     },
     "execution_count": 54,
     "metadata": {},
     "output_type": "execute_result"
    }
   ],
   "source": [
    "import datetime\n",
    "\n",
    "someDay = datetime.date(2001,11,3)\n",
    "anotherDay = datetime.date(2001,11,9)\n",
    "deltaDay = anotherDay - someDay\n",
    "deltaDay.days"
   ]
  },
  {
   "cell_type": "markdown",
   "id": "86b0e487-318e-42be-8402-10f86bac3728",
   "metadata": {},
   "source": [
    "- View variable type"
   ]
  },
  {
   "cell_type": "code",
   "execution_count": 56,
   "id": "6bcca7e2-2c19-4811-aa29-35db0296097f",
   "metadata": {},
   "outputs": [
    {
     "data": {
      "text/plain": [
       "NoneType"
      ]
     },
     "execution_count": 56,
     "metadata": {},
     "output_type": "execute_result"
    }
   ],
   "source": [
    "type(None)"
   ]
  },
  {
   "cell_type": "code",
   "execution_count": 57,
   "id": "ae5b5823-094b-4dae-8a39-9187e2b4b778",
   "metadata": {},
   "outputs": [
    {
     "data": {
      "text/plain": [
       "float"
      ]
     },
     "execution_count": 57,
     "metadata": {},
     "output_type": "execute_result"
    }
   ],
   "source": [
    "type(1.0)"
   ]
  },
  {
   "cell_type": "code",
   "execution_count": 58,
   "id": "b6e4b3cd-fbd4-4363-b489-77a5176f0ce0",
   "metadata": {},
   "outputs": [
    {
     "data": {
      "text/plain": [
       "bool"
      ]
     },
     "execution_count": 58,
     "metadata": {},
     "output_type": "execute_result"
    }
   ],
   "source": [
    "type(True)"
   ]
  },
  {
   "cell_type": "code",
   "execution_count": 59,
   "id": "5342c882-7446-4ac6-a5e0-dddf5c78b10c",
   "metadata": {},
   "outputs": [
    {
     "data": {
      "text/plain": [
       "str"
      ]
     },
     "execution_count": 59,
     "metadata": {},
     "output_type": "execute_result"
    }
   ],
   "source": [
    "s = 'NoneType'\n",
    "type(s)"
   ]
  },
  {
   "cell_type": "markdown",
   "id": "c5da4cc0-e575-4e1d-ad25-e052f3e81c06",
   "metadata": {},
   "source": [
    "- Type conversion"
   ]
  },
  {
   "cell_type": "code",
   "execution_count": 62,
   "id": "adaf50dc-94e4-4938-81ba-4a8e0e2f14a7",
   "metadata": {},
   "outputs": [
    {
     "data": {
      "text/plain": [
       "'10086'"
      ]
     },
     "execution_count": 62,
     "metadata": {},
     "output_type": "execute_result"
    }
   ],
   "source": [
    "str(10086)"
   ]
  },
  {
   "cell_type": "code",
   "execution_count": 66,
   "id": "786cedf2-7e5e-443d-99fc-d52ad693880f",
   "metadata": {},
   "outputs": [],
   "source": [
    "#flot()"
   ]
  },
  {
   "cell_type": "code",
   "execution_count": 65,
   "id": "d6bdbc1c-7882-4802-8980-34b289ddf7d9",
   "metadata": {},
   "outputs": [
    {
     "data": {
      "text/plain": [
       "10086.0"
      ]
     },
     "execution_count": 65,
     "metadata": {},
     "output_type": "execute_result"
    }
   ],
   "source": [
    "float(10086)"
   ]
  },
  {
   "cell_type": "code",
   "execution_count": 68,
   "id": "37308bca-d9f5-45d8-a54b-1478c1b86a99",
   "metadata": {},
   "outputs": [
    {
     "data": {
      "text/plain": [
       "10086"
      ]
     },
     "execution_count": 68,
     "metadata": {},
     "output_type": "execute_result"
    }
   ],
   "source": [
    "int('10086')"
   ]
  },
  {
   "cell_type": "code",
   "execution_count": 69,
   "id": "4aad3846-9107-40d8-8437-b864cbe84b10",
   "metadata": {},
   "outputs": [
    {
     "data": {
      "text/plain": [
       "(10086+0j)"
      ]
     },
     "execution_count": 69,
     "metadata": {},
     "output_type": "execute_result"
    }
   ],
   "source": [
    "complex(10086)"
   ]
  },
  {
   "cell_type": "markdown",
   "id": "949967cc-b213-4588-ac9b-337e4498a6cc",
   "metadata": {},
   "source": [
    "## 2 Python Data Structures"
   ]
  },
  {
   "cell_type": "markdown",
   "id": "46ecef3d-cf5a-4d0a-a1bb-75c3b43b8035",
   "metadata": {},
   "source": [
    "list, tuple, set, dictionary"
   ]
  },
  {
   "cell_type": "markdown",
   "id": "da255b51-f71d-4c23-aaef-a77b929318ab",
   "metadata": {},
   "source": [
    "### 2.1 List"
   ]
  },
  {
   "cell_type": "markdown",
   "id": "84551cf3-b547-48b0-ac32-d22b2a964144",
   "metadata": {},
   "source": [
    "A container used to store a series of elements. The list is represented by [], and the types of the elements can be different."
   ]
  },
  {
   "cell_type": "code",
   "execution_count": 128,
   "id": "5a3b25de-3b7c-4c0c-82ce-0cbcd04eb4d9",
   "metadata": {},
   "outputs": [
    {
     "name": "stdout",
     "output_type": "stream",
     "text": [
      "[0, 1, 2, 3, 4, 5]\n"
     ]
    }
   ],
   "source": [
    "mylist = [0,1,2,3,4,5]\n",
    "print (mylist)"
   ]
  },
  {
   "cell_type": "markdown",
   "id": "b2b56370-cc59-4ad7-b766-f2d2c858e202",
   "metadata": {},
   "source": [
    "List indexing and slicing"
   ]
  },
  {
   "cell_type": "code",
   "execution_count": 129,
   "id": "6938b0ac-4aed-466f-8c2b-c974790634f4",
   "metadata": {},
   "outputs": [
    {
     "name": "stdout",
     "output_type": "stream",
     "text": [
      "[4]    = 4\n",
      "[-4]   = 2\n",
      "[0:4]  = [0, 1, 2, 3]\n",
      "[:4]   = [0, 1, 2, 3]\n",
      "[0:4:2]= [0, 2]\n",
      "[-5:-1:]= [1, 2, 3, 4]\n",
      "[-2::-1]= [4, 3, 2, 1, 0]\n"
     ]
    }
   ],
   "source": [
    "# Index starts from 0, including the left but not the right\n",
    "print ('[4]    =', mylist[4])\n",
    "print ('[-4]   =', mylist[-4])\n",
    "print ('[0:4]  =',mylist[0:4])\n",
    "print ('[:4]   =',mylist[:4])#direct without 0\n",
    "print ('[0:4:2]=',mylist[0:4:2]) # in b/w 0 - 4 print every next 2nd digit\n",
    "print ('[-5:-1:]=',mylist[-5:-1:])\n",
    "print ('[-2::-1]=',mylist[-2::-1])"
   ]
  },
  {
   "cell_type": "markdown",
   "id": "c5d74653-78b9-40dc-b7c5-7b1b647d3469",
   "metadata": {},
   "source": [
    "Modification List"
   ]
  },
  {
   "cell_type": "code",
   "execution_count": 130,
   "id": "7b8b8279-9078-4a4b-854b-8cfff2b7dfbd",
   "metadata": {},
   "outputs": [
    {
     "name": "stdout",
     "output_type": "stream",
     "text": [
      "Sham\n",
      "Shami\n",
      "3111\n"
     ]
    }
   ],
   "source": [
    "mylist[3] = \"Sham\"\n",
    "print (mylist[3])\n",
    "\n",
    "mylist[5]= \"Shami\"\n",
    "print (mylist[5])\n",
    "\n",
    "mylist[5]=3111\n",
    "print (mylist[5])\n"
   ]
  },
  {
   "cell_type": "code",
   "execution_count": 131,
   "id": "bd19016c-6793-4072-b8df-ff6ae57c3672",
   "metadata": {},
   "outputs": [
    {
     "name": "stdout",
     "output_type": "stream",
     "text": [
      "[0, 1, 2, 'Sham', 4, 3111]\n"
     ]
    }
   ],
   "source": [
    "print (mylist)"
   ]
  },
  {
   "cell_type": "markdown",
   "id": "0476af71-a297-4e9d-a6ad-c14ec0d98614",
   "metadata": {},
   "source": [
    "Inserting Elements"
   ]
  },
  {
   "cell_type": "code",
   "execution_count": 132,
   "id": "044306da-82a6-49c3-a12b-fce3cc6b3816",
   "metadata": {},
   "outputs": [
    {
     "name": "stdout",
     "output_type": "stream",
     "text": [
      "[0, 1, 2, 'Sham', 4, 3111, 'add-to-end', 'New', 'lists']\n"
     ]
    }
   ],
   "source": [
    "mylist.append('add-to-end') # Add to the end\n",
    "mylist.extend(['New','lists'])\n",
    "print (mylist)"
   ]
  },
  {
   "cell_type": "code",
   "execution_count": 147,
   "id": "8b9b9b85-9596-4e7a-9768-cbf592cae6cc",
   "metadata": {},
   "outputs": [
    {
     "data": {
      "text/plain": [
       "[0, [90, 80, 77, 66, 55], 1, 2, 'Sham', 4, 3111, 'add-to-end', 'New', 'lists']"
      ]
     },
     "execution_count": 147,
     "metadata": {},
     "output_type": "execute_result"
    }
   ],
   "source": [
    "scores = [90, 80, 77, 66, 55]\n",
    "mylist.insert(1, scores)# Add to the specified location in the mylist/previous list\n",
    "mylist"
   ]
  },
  {
   "cell_type": "code",
   "execution_count": 148,
   "id": "183a47e3-ee94-4ad8-bceb-b7c77b3f4a9a",
   "metadata": {},
   "outputs": [],
   "source": [
    "a = []"
   ]
  },
  {
   "cell_type": "markdown",
   "id": "2ee177f0-27d9-47eb-8717-040f9d881ddb",
   "metadata": {},
   "source": [
    "Deleting an element"
   ]
  },
  {
   "cell_type": "code",
   "execution_count": 149,
   "id": "d5f48f7e-45fe-4dfe-82dc-58728333735b",
   "metadata": {},
   "outputs": [
    {
     "name": "stdout",
     "output_type": "stream",
     "text": [
      "[90, 80, 77, 66, 55]\n",
      "[0, 1, 2, 'Sham', 4, 3111, 'add-to-end', 'New', 'lists']\n"
     ]
    }
   ],
   "source": [
    "'''This function returns the popped element. If no parameter is passed,\n",
    "the last element will be deleted.'''\n",
    "print(mylist.pop(1)) \n",
    "print (mylist)"
   ]
  },
  {
   "cell_type": "markdown",
   "id": "b8c13990-e318-46bd-9090-1c7e0f1c5a40",
   "metadata": {},
   "source": [
    "Check if an element is in the list, etc."
   ]
  },
  {
   "cell_type": "code",
   "execution_count": 150,
   "id": "012a8eab-928d-4fda-805f-43762d530cfb",
   "metadata": {},
   "outputs": [
    {
     "name": "stdout",
     "output_type": "stream",
     "text": [
      "True\n",
      "False\n"
     ]
    }
   ],
   "source": [
    "print ('Sham' in mylist)\n",
    "print ( 'New' not in mylist)"
   ]
  },
  {
   "cell_type": "code",
   "execution_count": 151,
   "id": "45973a0f-b63d-43c7-9c04-3a539f0b48d5",
   "metadata": {},
   "outputs": [
    {
     "data": {
      "text/plain": [
       "1"
      ]
     },
     "execution_count": 151,
     "metadata": {},
     "output_type": "execute_result"
    }
   ],
   "source": [
    "mylist.count('Sham')"
   ]
  },
  {
   "cell_type": "code",
   "execution_count": 152,
   "id": "d7314188-8e56-4375-a7f6-9844ddf9e7e3",
   "metadata": {},
   "outputs": [
    {
     "data": {
      "text/plain": [
       "7"
      ]
     },
     "execution_count": 152,
     "metadata": {},
     "output_type": "execute_result"
    }
   ],
   "source": [
    "mylist.index('New')"
   ]
  },
  {
   "cell_type": "markdown",
   "id": "89e350b7-1887-4c98-824b-c505d9d6bbc6",
   "metadata": {},
   "source": [
    "The range function generates a list of integers"
   ]
  },
  {
   "cell_type": "code",
   "execution_count": 153,
   "id": "2ee26eaa-2625-48cb-a960-6f0676743ab9",
   "metadata": {},
   "outputs": [
    {
     "name": "stdout",
     "output_type": "stream",
     "text": [
      "range(0, 10)\n",
      "range(-5, 5)\n",
      "range(-10, 10, 2)\n",
      "range(16, 10, -1)\n"
     ]
    }
   ],
   "source": [
    "print (range(10))\n",
    "print (range(-5, 5))\n",
    "print (range(-10, 10, 2))\n",
    "print (range(16, 10, -1))"
   ]
  },
  {
   "cell_type": "markdown",
   "id": "84274efc-cf0b-4db8-9336-b7fa88171c44",
   "metadata": {},
   "source": [
    "### 2.2 Tuple"
   ]
  },
  {
   "cell_type": "markdown",
   "id": "fde08d5d-43fe-40d7-a3f3-e856292e91b1",
   "metadata": {},
   "source": [
    "Tuples are similar to lists. The elements in a tuple are also indexed. The values of the elements in a list can be modified, but the values of the elements in a tuple cannot be modified and can only be read. The symbol for a tuple is ()."
   ]
  },
  {
   "cell_type": "code",
   "execution_count": 155,
   "id": "1ea3e492-4710-4357-83e1-dcc8bacbcec1",
   "metadata": {},
   "outputs": [
    {
     "data": {
      "text/plain": [
       "('Sham', 'Asif', 'Kashif', 'Noor', 'Riyaz', [90, 80, 77, 66, 55])"
      ]
     },
     "execution_count": 155,
     "metadata": {},
     "output_type": "execute_result"
    }
   ],
   "source": [
    "studentsTuple = (\"Sham\",\"Asif\",\"Kashif\",\"Noor\",\"Riyaz\", scores)\n",
    "studentsTuple"
   ]
  },
  {
   "cell_type": "code",
   "execution_count": 157,
   "id": "812f6947-61b3-4fc8-98fe-2c82536947ff",
   "metadata": {},
   "outputs": [
    {
     "name": "stdout",
     "output_type": "stream",
     "text": [
      "TypeError\n"
     ]
    }
   ],
   "source": [
    "try:\n",
    "    studentsTuple[1] = 'shami'\n",
    "except TypeError:\n",
    "    print ('TypeError')"
   ]
  },
  {
   "cell_type": "code",
   "execution_count": 158,
   "id": "7e87c770-63d4-4352-9b4a-2dc7d97f2faf",
   "metadata": {},
   "outputs": [
    {
     "data": {
      "text/plain": [
       "('Sham', 'Asif', 'Kashif', 'Noor', 'Riyaz', [90, 100, 77, 66, 55])"
      ]
     },
     "execution_count": 158,
     "metadata": {},
     "output_type": "execute_result"
    }
   ],
   "source": [
    "scores[1] = 100\n",
    "studentsTuple"
   ]
  },
  {
   "cell_type": "code",
   "execution_count": 159,
   "id": "31faf9f8-1f6b-4830-9e72-64eca2b5fd10",
   "metadata": {},
   "outputs": [
    {
     "data": {
      "text/plain": [
       "True"
      ]
     },
     "execution_count": 159,
     "metadata": {},
     "output_type": "execute_result"
    }
   ],
   "source": [
    "'Sham' in studentsTuple"
   ]
  },
  {
   "cell_type": "code",
   "execution_count": 160,
   "id": "39f34cd7-3b93-42a7-8eba-0a045079fc7c",
   "metadata": {},
   "outputs": [
    {
     "data": {
      "text/plain": [
       "('Sham', 'Asif', 'Kashif', 'Noor')"
      ]
     },
     "execution_count": 160,
     "metadata": {},
     "output_type": "execute_result"
    }
   ],
   "source": [
    "studentsTuple[0:4]"
   ]
  },
  {
   "cell_type": "code",
   "execution_count": 161,
   "id": "1d46c5b2-3c8d-4045-96ef-8e25bab6d3ab",
   "metadata": {},
   "outputs": [
    {
     "data": {
      "text/plain": [
       "1"
      ]
     },
     "execution_count": 161,
     "metadata": {},
     "output_type": "execute_result"
    }
   ],
   "source": [
    "studentsTuple.count('Sham')"
   ]
  },
  {
   "cell_type": "code",
   "execution_count": 162,
   "id": "804645fb-c5fa-4e63-a86f-6f6000331ca9",
   "metadata": {},
   "outputs": [
    {
     "data": {
      "text/plain": [
       "3"
      ]
     },
     "execution_count": 162,
     "metadata": {},
     "output_type": "execute_result"
    }
   ],
   "source": [
    "studentsTuple.index('Noor')"
   ]
  },
  {
   "cell_type": "code",
   "execution_count": 163,
   "id": "3acf9b66-0c83-4389-9b7c-885746eb6ed3",
   "metadata": {},
   "outputs": [
    {
     "data": {
      "text/plain": [
       "6"
      ]
     },
     "execution_count": 163,
     "metadata": {},
     "output_type": "execute_result"
    }
   ],
   "source": [
    "len(studentsTuple)"
   ]
  },
  {
   "cell_type": "markdown",
   "id": "880e42ce-9c31-4f9e-b850-9dd132799c25",
   "metadata": {},
   "source": [
    "# 2.3 SET"
   ]
  },
  {
   "cell_type": "markdown",
   "id": "01ffbf1b-1d6f-4997-841b-f6dd979ce184",
   "metadata": {},
   "source": [
    "There are two main functions of sets in Python. One is to perform set operations, and the other is to eliminate duplicate elements. The format of a set is: set(), where () can be a list, dictionary, or string, because strings are stored in the form of lists."
   ]
  },
  {
   "cell_type": "code",
   "execution_count": 165,
   "id": "888f3b48-a7d1-4b33-8d7f-b1f010220c95",
   "metadata": {},
   "outputs": [
    {
     "name": "stdout",
     "output_type": "stream",
     "text": [
      "{0, 1, 2, 'add-to-end', 4, 3111, 'lists', 'Sham', 'New'}\n"
     ]
    }
   ],
   "source": [
    "studentsSet = set(mylist)\n",
    "print (studentsSet)"
   ]
  },
  {
   "cell_type": "code",
   "execution_count": 166,
   "id": "ab72d07b-ad2f-4acb-b6c9-2ff03660038a",
   "metadata": {},
   "outputs": [
    {
     "data": {
      "text/plain": [
       "{0, 1, 2, 3111, 4, 'New', 'Razak', 'Sham', 'add-to-end', 'lists'}"
      ]
     },
     "execution_count": 166,
     "metadata": {},
     "output_type": "execute_result"
    }
   ],
   "source": [
    "studentsSet.add('Razak')\n",
    "studentsSet"
   ]
  },
  {
   "cell_type": "code",
   "execution_count": 167,
   "id": "b0808aeb-9120-48d5-9563-32a65a7e801c",
   "metadata": {},
   "outputs": [
    {
     "data": {
      "text/plain": [
       "{0, 1, 2, 3111, 4, 'New', 'Sham', 'add-to-end', 'lists'}"
      ]
     },
     "execution_count": 167,
     "metadata": {},
     "output_type": "execute_result"
    }
   ],
   "source": [
    "studentsSet.remove('Razak')\n",
    "studentsSet"
   ]
  },
  {
   "cell_type": "code",
   "execution_count": 176,
   "id": "a0d58129-b46f-4ce0-8bfd-fe0715999e09",
   "metadata": {},
   "outputs": [
    {
     "name": "stdout",
     "output_type": "stream",
     "text": [
      "a= {'s', 'c', 'm', 'g', 'n', 'b', 'a'}\n"
     ]
    }
   ],
   "source": [
    "a = set(\"abcnmaaaaggsng\")\n",
    "print ('a=',a)"
   ]
  },
  {
   "cell_type": "code",
   "execution_count": 177,
   "id": "d99e656e-28ec-4d8f-ab83-2e3ff755ae68",
   "metadata": {},
   "outputs": [
    {
     "name": "stdout",
     "output_type": "stream",
     "text": [
      "b= {'d', 'f', 'c', 'm'}\n"
     ]
    }
   ],
   "source": [
    "b = set(\"cdfm\")\n",
    "print ('b=',b)"
   ]
  },
  {
   "cell_type": "code",
   "execution_count": 178,
   "id": "27c4f183-5b9f-4706-9405-c94e58ada877",
   "metadata": {},
   "outputs": [
    {
     "name": "stdout",
     "output_type": "stream",
     "text": [
      "x= {'m', 'c'}\n"
     ]
    }
   ],
   "source": [
    "#Intersection\n",
    "x = a & b\n",
    "print('x=',x)"
   ]
  },
  {
   "cell_type": "code",
   "execution_count": 180,
   "id": "69497375-9f74-48bf-b12f-9052d8150fbe",
   "metadata": {},
   "outputs": [
    {
     "name": "stdout",
     "output_type": "stream",
     "text": [
      "y= {'s', 'c', 'd', 'm', 'f', 'g', 'n', 'b', 'a'}\n"
     ]
    }
   ],
   "source": [
    "#Union\n",
    "y = a|b\n",
    "print ('y=',y)"
   ]
  },
  {
   "cell_type": "code",
   "execution_count": 183,
   "id": "992d1aa1-c3aa-40e9-9f5d-dc26bc5c4d3a",
   "metadata": {},
   "outputs": [
    {
     "name": "stdout",
     "output_type": "stream",
     "text": [
      "z= {'s', 'g', 'b', 'n', 'a'}\n"
     ]
    }
   ],
   "source": [
    "#Difference\n",
    "z = a-b\n",
    "print('z=',z)"
   ]
  },
  {
   "cell_type": "code",
   "execution_count": 184,
   "id": "c2cf693f-560f-4635-856d-8295090b76e1",
   "metadata": {},
   "outputs": [
    {
     "name": "stdout",
     "output_type": "stream",
     "text": [
      "{'s', 'g', 'b', 'n', 'a'}\n"
     ]
    }
   ],
   "source": [
    "#Remove Duplicate Elements\n",
    "new = set(a)\n",
    "print(z)"
   ]
  },
  {
   "cell_type": "markdown",
   "id": "96e9c641-1c77-4725-99eb-a0ad5f82439a",
   "metadata": {},
   "source": [
    "# 2.4 Dictionary"
   ]
  },
  {
   "cell_type": "markdown",
   "id": "ac3d94c5-3758-4e8b-b445-82f552c63df7",
   "metadata": {},
   "source": [
    "The dictionary dict in Python is also called an associative array, enclosed in curly braces {}, and is also called a map in other languages. It uses key-value storage and has extremely fast search speed, where the key cannot be repeated."
   ]
  },
  {
   "cell_type": "code",
   "execution_count": 187,
   "id": "ff430c09-e14b-4dda-9efa-a7119453ec7e",
   "metadata": {},
   "outputs": [
    {
     "name": "stdout",
     "output_type": "stream",
     "text": [
      "proddatur\n"
     ]
    }
   ],
   "source": [
    "k = {\"name\":\"Sham\",\"home\":\"proddatur\"}\n",
    "print (k[\"home\"])"
   ]
  },
  {
   "cell_type": "code",
   "execution_count": 189,
   "id": "79ed2659-7dfe-47ad-9945-aca4aa95e2b7",
   "metadata": {},
   "outputs": [
    {
     "name": "stdout",
     "output_type": "stream",
     "text": [
      "dict_keys(['name', 'home'])\n",
      "dict_values(['Sham', 'proddatur'])\n"
     ]
    }
   ],
   "source": [
    "print (k.keys())\n",
    "print (k.values())"
   ]
  },
  {
   "cell_type": "markdown",
   "id": "93c051b0-d783-4baa-8f3e-7d917cebef84",
   "metadata": {},
   "source": [
    "Add and modify items in the dictionary"
   ]
  },
  {
   "cell_type": "code",
   "execution_count": 192,
   "id": "c8705a2f-3eec-4741-ae89-53579cb65623",
   "metadata": {},
   "outputs": [
    {
     "name": "stdout",
     "output_type": "stream",
     "text": [
      "{'name': 'Shami', 'home': 'proddatur', 'like': 'Drawing'}\n"
     ]
    }
   ],
   "source": [
    "k[\"like\"] = \"Drawing\"\n",
    "k['name'] = \"Shami\"\n",
    "print(k)"
   ]
  },
  {
   "cell_type": "code",
   "execution_count": 196,
   "id": "ef255639-b63c-4d09-adce-4287f138c3a0",
   "metadata": {},
   "outputs": [
    {
     "data": {
      "text/plain": [
       "-1"
      ]
     },
     "execution_count": 196,
     "metadata": {},
     "output_type": "execute_result"
    }
   ],
   "source": [
    "k.get('edu',-1) \n",
    "# Through the get method provided by dict, \n",
    "# if the key does not exist,\n",
    "# it can return None or the value specified by itself"
   ]
  },
  {
   "cell_type": "markdown",
   "id": "3b909ce0-8aa7-4b4b-8aba-88cd46db6ab2",
   "metadata": {},
   "source": [
    "Delete key-value element\n"
   ]
  },
  {
   "cell_type": "code",
   "execution_count": 198,
   "id": "6941bad9-9b90-4ac5-98aa-97f643f69330",
   "metadata": {},
   "outputs": [
    {
     "name": "stdout",
     "output_type": "stream",
     "text": [
      "{'name': 'Shami', 'home': 'proddatur'}\n"
     ]
    }
   ],
   "source": [
    "k.pop('like')\n",
    "print(k)"
   ]
  },
  {
   "cell_type": "markdown",
   "id": "aaad9d4d-3a29-4193-afeb-00bee478dc38",
   "metadata": {},
   "source": [
    "### 2.5 Conversion between lists, tuples, sets, and dictionaries"
   ]
  },
  {
   "cell_type": "code",
   "execution_count": 199,
   "id": "2f66c1ef-b371-4bb3-b012-c1fad172d0b3",
   "metadata": {},
   "outputs": [
    {
     "data": {
      "text/plain": [
       "list"
      ]
     },
     "execution_count": 199,
     "metadata": {},
     "output_type": "execute_result"
    }
   ],
   "source": [
    "type(mylist)"
   ]
  },
  {
   "cell_type": "code",
   "execution_count": 200,
   "id": "beda9096-a82e-4308-95a7-f4a978dd73f7",
   "metadata": {},
   "outputs": [
    {
     "data": {
      "text/plain": [
       "(0, 1, 2, 'Sham', 4, 3111, 'add-to-end', 'New', 'lists')"
      ]
     },
     "execution_count": 200,
     "metadata": {},
     "output_type": "execute_result"
    }
   ],
   "source": [
    "tuple(mylist)"
   ]
  },
  {
   "cell_type": "code",
   "execution_count": 201,
   "id": "4881ce16-ae57-40d5-8ee4-6d30af75ffb8",
   "metadata": {},
   "outputs": [
    {
     "data": {
      "text/plain": [
       "['name', 'home']"
      ]
     },
     "execution_count": 201,
     "metadata": {},
     "output_type": "execute_result"
    }
   ],
   "source": [
    "list(k)"
   ]
  },
  {
   "cell_type": "code",
   "execution_count": 204,
   "id": "df011976-5732-44a4-9531-fe1f97d3f2d6",
   "metadata": {},
   "outputs": [
    {
     "name": "stdout",
     "output_type": "stream",
     "text": [
      "<zip object at 0x00000275B7134EC0>\n",
      "{'A': 1, 'B': 2, 'C': 3}\n"
     ]
    }
   ],
   "source": [
    "zl = zip(('A', 'B', 'C'), [1, 2, 3, 4]) # zip can 'stitch' lists, tuples, sets, and dictionaries together\n",
    "print (zl)\n",
    "print (dict(zl))"
   ]
  },
  {
   "cell_type": "markdown",
   "id": "13e7062d-30a2-49ee-802d-22f9a273d881",
   "metadata": {},
   "source": [
    "## 3 Python Control Flow"
   ]
  },
  {
   "cell_type": "markdown",
   "id": "6f6d9e8e-c905-4e66-9a3d-fe986c40f56a",
   "metadata": {},
   "source": [
    "In Python, programs are usually executed from top to bottom, but sometimes we use control flow statements to change the execution order of the program. There are three types of control flow in Python: sequential structure, branch structure, and loop structure."
   ]
  },
  {
   "cell_type": "markdown",
   "id": "d38e39b5-ec43-449b-927e-fe7fa89b960e",
   "metadata": {},
   "source": [
    "In addition, Python can use semicolons \";\" to separate statements, but generally uses newlines to separate them; statement blocks do not use curly braces \"{}\", but use indentation (four spaces can be used) to indicate"
   ]
  },
  {
   "cell_type": "markdown",
   "id": "d9e81a1d-1729-469b-a7bb-359cb5567afd",
   "metadata": {},
   "source": [
    "### 3.1 Sequence Structure"
   ]
  },
  {
   "cell_type": "code",
   "execution_count": 205,
   "id": "313b0db6-55c0-42df-acce-6bcd35eb18b3",
   "metadata": {},
   "outputs": [
    {
     "name": "stdout",
     "output_type": "stream",
     "text": [
      "36\n"
     ]
    }
   ],
   "source": [
    "s = '7'\n",
    "num = int(s) # This separation method is generally not used\n",
    "num -= 1 # num = num -1\n",
    "num *= 6 # num = num * 6\n",
    "print (num)"
   ]
  },
  {
   "cell_type": "markdown",
   "id": "372c5e6e-d5b8-45c8-af3f-b23960af62ab",
   "metadata": {},
   "source": [
    "### 3.2 Branch structure: The if statement in Python is used to determine which statement block to execute"
   ]
  },
  {
   "cell_type": "raw",
   "id": "58cce295-80f9-4054-a782-cada97461290",
   "metadata": {},
   "source": [
    "if <True or Flase expression>:\n",
    "Execute statement block\n",
    "elif <True or Flase expression>:\n",
    "Execute statement block\n",
    "else: # None of them meet\n",
    "Execute statement block\n",
    "# There can be multiple elif clauses, and the elif and else parts can be omitted"
   ]
  },
  {
   "cell_type": "code",
   "execution_count": 206,
   "id": "542ebf22-bb00-4086-9d5c-60420d574dc2",
   "metadata": {},
   "outputs": [
    {
     "name": "stdout",
     "output_type": "stream",
     "text": [
      "Good\n"
     ]
    }
   ],
   "source": [
    "salary = 1000\n",
    "\n",
    "if salary > 10000:\n",
    "    print (\"Wow!!!\")\n",
    "elif salary > 5000:\n",
    "    print (\"That's OK.\")\n",
    "elif salary > 3000:\n",
    "    print (\"oh!!\")\n",
    "else:\n",
    "    print (\"Good\")"
   ]
  },
  {
   "cell_type": "code",
   "execution_count": null,
   "id": "eb4d5389-398c-489c-882f-137aeef11aed",
   "metadata": {},
   "outputs": [],
   "source": []
  }
 ],
 "metadata": {
  "kernelspec": {
   "display_name": "Python 3 (ipykernel)",
   "language": "python",
   "name": "python3"
  },
  "language_info": {
   "codemirror_mode": {
    "name": "ipython",
    "version": 3
   },
   "file_extension": ".py",
   "mimetype": "text/x-python",
   "name": "python",
   "nbconvert_exporter": "python",
   "pygments_lexer": "ipython3",
   "version": "3.13.5"
  }
 },
 "nbformat": 4,
 "nbformat_minor": 5
}
